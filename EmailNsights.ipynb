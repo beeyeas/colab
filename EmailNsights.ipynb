{
  "cells": [
    {
      "cell_type": "markdown",
      "metadata": {
        "id": "view-in-github",
        "colab_type": "text"
      },
      "source": [
        "<a href=\"https://colab.research.google.com/github/beeyeas/colab/blob/main/EmailNsights.ipynb\" target=\"_parent\"><img src=\"https://colab.research.google.com/assets/colab-badge.svg\" alt=\"Open In Colab\"/></a>"
      ]
    },
    {
      "cell_type": "code",
      "execution_count": null,
      "metadata": {
        "id": "NT7esvoSTwsu"
      },
      "outputs": [],
      "source": [
        "!pip install google-api-python-client google-auth-httplib2 google-auth-oauthlib streamlit streamlit_js streamlit-google-auth streamlit_javascript"
      ]
    },
    {
      "cell_type": "code",
      "execution_count": null,
      "metadata": {
        "colab": {
          "base_uri": "https://localhost:8080/"
        },
        "id": "BxZR4aUUO3qY",
        "outputId": "3f54adb2-8e5c-4c3b-eb64-5616b09f0bc7"
      },
      "outputs": [
        {
          "name": "stdout",
          "output_type": "stream",
          "text": [
            "Overwriting app.py\n"
          ]
        }
      ],
      "source": [
        "# prompt: EmailInsights is an innovative analytics app designed to help individuals and businesses uncover hidden trends, patterns, and insights within their email inboxes. By connecting to popular email services (e.g., Gmail, Outlook, Yahoo), EmailInsights web application built using streamlit provides users with a comprehensive dashboard to:\n",
        "# # 1. Track email metrics: Monitor email volume, response rates, and engagement metrics.\n",
        "# # 2. Analyze sender and recipient patterns: Identify frequent contacts, most emailed topics, and communication networks.\n",
        "# # 3. Detect email categorization and prioritization: Automatically categorize emails (e.g., work, personal, spam) and prioritize important messages.\n",
        "# # 4. Visualize email data: Interactive charts, graphs, and heatmaps to help users understand their email behavior.\n",
        "# # Core Features:\n",
        "# # 1. Email account integration: Seamless connection to popular email services like Gmail using Gmail API\n",
        "# # 2. Data visualization: Customizable dashboards with interactive charts and graphs.\n",
        "# # 3. Machine learning-powered insights: Automated analysis and recommendations.\n",
        "# # 4. Customizable alerts and notifications: Set alerts for important emails, sender/recipient patterns, and email volume.\n",
        "# # use Gmail API client \"pip install google-api-python-client\"\n",
        "%%writefile app.py\n",
        "\n",
        "import streamlit as st\n",
        "from googleapiclient.discovery import build\n",
        "from google_auth_oauthlib.flow import InstalledAppFlow\n",
        "from google.auth.transport.requests import Request\n",
        "import pickle\n",
        "import os.path\n",
        "\n",
        "# If modifying these scopes, delete the file token.pickle.\n",
        "SCOPES = ['https://www.googleapis.com/auth/gmail.readonly']\n",
        "\n",
        "def authenticate_gmail():\n",
        "    creds = None\n",
        "    if os.path.exists('token.pickle'):\n",
        "        with open('token.pickle', 'rb') as token:\n",
        "            creds = pickle.load(token)\n",
        "    # If there are no (valid) credentials available, let the user log in.\n",
        "    if not creds or not creds.valid:\n",
        "        if creds and creds.expired and creds.refresh_token:\n",
        "            creds.refresh(Request())\n",
        "        else:\n",
        "            flow = InstalledAppFlow.from_client_secrets_file(\n",
        "                'credentials.json', SCOPES) # You'll need credentials.json\n",
        "            creds = flow.run_local_server(port=0)\n",
        "        # Save the credentials for the next run\n",
        "        with open('token.pickle', 'wb') as token:\n",
        "            pickle.dump(creds, token)\n",
        "    return creds\n",
        "\n",
        "def get_email_data(service):\n",
        "  # Placeholder for actual email data retrieval logic.\n",
        "  # Replace with actual implementation using Gmail API.\n",
        "  results = service.users().messages().list(userId='me', maxResults=10).execute()\n",
        "  messages = results.get('messages', [])\n",
        "  email_data = []\n",
        "  for msg in messages:\n",
        "    msg_data = service.users().messages().get(userId='me', id=msg['id']).execute()\n",
        "    email_data.append(msg_data)\n",
        "  return email_data\n",
        "\n",
        "# Streamlit app\n",
        "st.title(\"EmailInsights\")\n",
        "\n",
        "if st.button(\"Connect to Gmail\"):\n",
        "    creds = authenticate_gmail()\n",
        "    if creds:\n",
        "        service = build('gmail', 'v1', credentials=creds)\n",
        "        email_data = get_email_data(service)\n",
        "        st.write(\"Connected to Gmail successfully!\")\n",
        "        # Process and display data as needed using Streamlit elements\n",
        "        # Example display of email snippets\n",
        "        for msg in email_data:\n",
        "            try:\n",
        "              snippet = msg['snippet']\n",
        "              st.write(snippet)\n",
        "            except KeyError:\n",
        "              st.write(\"No snippet found for this email\")\n",
        "\n",
        "\n",
        "    else:\n",
        "        st.write(\"Authentication failed.\")\n",
        "\n"
      ]
    },
    {
      "cell_type": "code",
      "execution_count": null,
      "metadata": {
        "colab": {
          "base_uri": "https://localhost:8080/"
        },
        "id": "2uv32EjjDX_B",
        "outputId": "0fc6048c-e482-49d3-c7fe-9cc16c8726ba"
      },
      "outputs": [
        {
          "name": "stdout",
          "output_type": "stream",
          "text": [
            "Writing app.py\n"
          ]
        }
      ],
      "source": [
        "%%writefile app.py\n",
        "\n",
        "import os\n",
        "import google_auth_oauthlib.flow\n",
        "from googleapiclient.discovery import build\n",
        "import streamlit as st\n",
        "import webbrowser\n",
        "\n",
        "redirect_uri = os.environ.get(\"REDIRECT_URI\", \"http://localhost:8501/\")\n",
        "\n",
        "def auth_flow():\n",
        "    st.write(\"Welcome to My App!\")\n",
        "    auth_code = st.query_params.get(\"code\")\n",
        "    flow = google_auth_oauthlib.flow.Flow.from_client_secrets_file(\n",
        "        \"credentials.json\", # replace with you json credentials from your google auth app\n",
        "        scopes=[\"https://www.googleapis.com/auth/userinfo.email\", \"openid\"],\n",
        "        redirect_uri=redirect_uri,\n",
        "    )\n",
        "    if auth_code:\n",
        "        flow.fetch_token(code=auth_code)\n",
        "        credentials = flow.credentials\n",
        "        st.write(\"Login Done\")\n",
        "        user_info_service = build(\n",
        "            serviceName=\"oauth2\",\n",
        "            version=\"v2\",\n",
        "            credentials=credentials,\n",
        "        )\n",
        "        user_info = user_info_service.userinfo().get().execute()\n",
        "        assert user_info.get(\"email\"), \"Email not found in infos\"\n",
        "        st.session_state[\"google_auth_code\"] = auth_code\n",
        "        st.session_state[\"user_info\"] = user_info\n",
        "    else:\n",
        "        if st.button(\"Sign in with Google\"):\n",
        "            authorization_url, state = flow.authorization_url(\n",
        "                access_type=\"offline\",\n",
        "                include_granted_scopes=\"true\",\n",
        "            )\n",
        "            webbrowser.open_new_tab(authorization_url)\n",
        "\n",
        "\n",
        "def main():\n",
        "    if \"google_auth_code\" not in st.session_state:\n",
        "        auth_flow()\n",
        "\n",
        "    if \"google_auth_code\" in st.session_state:\n",
        "        email = st.session_state[\"user_info\"].get(\"email\")\n",
        "        st.write(f\"Hello {email}\")\n",
        "\n",
        "\n",
        "if __name__ == \"__main__\":\n",
        "    main()"
      ]
    },
    {
      "cell_type": "code",
      "execution_count": null,
      "metadata": {
        "colab": {
          "base_uri": "https://localhost:8080/"
        },
        "id": "0axcqdSeZr90",
        "outputId": "e009ea4d-a84d-4049-e8c7-4d2bea6a0f29"
      },
      "outputs": [
        {
          "name": "stdout",
          "output_type": "stream",
          "text": [
            "Overwriting app.py\n"
          ]
        }
      ],
      "source": [
        "%%writefile app.py\n",
        "\n",
        "import os\n",
        "import json\n",
        "import google_auth_oauthlib.flow\n",
        "from googleapiclient.discovery import build\n",
        "import streamlit as st\n",
        "import webbrowser\n",
        "\n",
        "redirect_uri = os.environ.get(\"REDIRECT_URI\", \"https://www.google.com\")\n",
        "from streamlit_js import st_js, st_js_blocking\n",
        "\n",
        "def ls_get(k, key=None):\n",
        "    return st_js_blocking(f\"return JSON.parse(localStorage.getItem('{k}'));\", key)\n",
        "\n",
        "\n",
        "def ls_set(k, v, key=None):\n",
        "    jdata = json.dumps(v, ensure_ascii=False)\n",
        "    st_js_blocking(f\"localStorage.setItem('{k}', JSON.stringify({jdata}));\", key)\n",
        "\n",
        "def init_session():\n",
        "    user_info = ls_get(\"user_info\")\n",
        "    if user_info:\n",
        "        st.session_state[\"user_info\"] = user_info\n",
        "\n",
        "def auth_flow():\n",
        "    st.write(\"Welcome to My App!\")\n",
        "    auth_code = st.query_params.get(\"code\")\n",
        "\n",
        "    flow = google_auth_oauthlib.flow.Flow.from_client_secrets_file(\n",
        "        \"credentials.json\", # replace with you json credentials from your google auth app\n",
        "        scopes=[\"https://www.googleapis.com/auth/userinfo.email\", \"openid\"],\n",
        "        redirect_uri=redirect_uri,\n",
        "    )\n",
        "    if auth_code:\n",
        "        flow.fetch_token(code=auth_code)\n",
        "        credentials = flow.credentials\n",
        "        st.write(\"Login Done\")\n",
        "        user_info_service = build(\n",
        "            serviceName=\"oauth2\",\n",
        "            version=\"v2\",\n",
        "            credentials=credentials,\n",
        "        )\n",
        "        user_info = user_info_service.userinfo().get().execute()\n",
        "        assert user_info.get(\"email\"), \"Email not found in infos\"\n",
        "        st.session_state[\"google_auth_code\"] = auth_code\n",
        "        st.session_state[\"user_info\"] = user_info\n",
        "        ls_set(\"user_info\", user_info)\n",
        "        # TODO fix calling consecutive ls_set is not working\n",
        "        # ls_set(\"google_auth_code\", auth_code)\n",
        "    else:\n",
        "        authorization_url, state = flow.authorization_url(\n",
        "            access_type=\"offline\",\n",
        "            include_granted_scopes=\"true\",\n",
        "        )\n",
        "        st.link_button(\"Sign in with Google\", authorization_url)\n",
        "\n",
        "def main():\n",
        "    init_session()\n",
        "    if \"user_info\" not in st.session_state:\n",
        "        print(\"not in session proceeding to auth_flow\")\n",
        "        auth_flow()\n",
        "\n",
        "    if \"user_info\" in st.session_state:\n",
        "        #main_flow()\n",
        "        print(st.session_state[\"user_info\"])\n",
        "        email = st.session_state[\"user_info\"].get(\"email\")\n",
        "        st.write(f\"Hello {email}\")\n",
        "\n",
        "if __name__ == \"__main__\":\n",
        "    main()"
      ]
    },
    {
      "cell_type": "code",
      "source": [
        "# Trying OAUTH using streamlit-google-auth\n",
        "%%writefile app.py\n",
        "\n",
        "import streamlit as st\n",
        "from streamlit_google_auth import Authenticate\n",
        "import streamlit as st\n",
        "from streamlit_javascript import st_javascript\n",
        "\n",
        "#url = st_javascript(\"await fetch('').then(r => window.parent.location.href)\")\n",
        "url = st_javascript(\"await fetch('').then(r => window.parent.location.href)\").replace(\" \", \"\")\n",
        "st.write(url)\n",
        "print(url)\n",
        "st.title('Streamlit Google Auth Example 2')\n",
        "\n",
        "authenticator = Authenticate(\n",
        "    secret_credentials_path = 'credentials.json',\n",
        "    cookie_name='my_cookie_name',\n",
        "    cookie_key='this_is_secret',\n",
        "    redirect_uri = url,\n",
        ")\n",
        "\n",
        "# Catch the login event\n",
        "authenticator.check_authentification()\n",
        "\n",
        "if st.session_state['connected']:\n",
        "    st.image(st.session_state['user_info'].get('picture'))\n",
        "    st.write('Hello, '+ st.session_state['user_info'].get('name'))\n",
        "    st.write('Your email is '+ st.session_state['user_info'].get('email'))\n",
        "    if st.button('Log out'):\n",
        "        authenticator.logout()\n",
        "else:\n",
        "    st.write('You are not connected')\n",
        "    authorization_url = authenticator.get_authorization_url()\n",
        "    st.markdown(f'[Login]({authorization_url})')\n",
        "    st.link_button('Login', authorization_url)"
      ],
      "metadata": {
        "id": "t5kfXI8DMlEv"
      },
      "execution_count": null,
      "outputs": []
    },
    {
      "cell_type": "code",
      "execution_count": null,
      "metadata": {
        "id": "53eHFgb1Ur9a"
      },
      "outputs": [],
      "source": [
        "!wget -q -O - ipv4.icanhazip.com"
      ]
    },
    {
      "cell_type": "code",
      "execution_count": null,
      "metadata": {
        "id": "EQ6EYP2MUvAi"
      },
      "outputs": [],
      "source": [
        "!streamlit run app.py & npx localtunnel --port 8501"
      ]
    },
    {
      "cell_type": "code",
      "execution_count": null,
      "metadata": {
        "id": "mNKuVIrhU0A6"
      },
      "outputs": [],
      "source": [
        "!pip install colab-xterm\n",
        "%load_ext colabxterm\n",
        "%xterm"
      ]
    }
  ],
  "metadata": {
    "colab": {
      "provenance": [],
      "authorship_tag": "ABX9TyM1ahZZquciRdOb8nY7Q7EA",
      "include_colab_link": true
    },
    "kernelspec": {
      "display_name": "Python 3",
      "name": "python3"
    },
    "language_info": {
      "name": "python"
    }
  },
  "nbformat": 4,
  "nbformat_minor": 0
}